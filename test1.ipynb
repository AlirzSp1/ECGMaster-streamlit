{
 "cells": [
  {
   "cell_type": "code",
   "execution_count": 1,
   "id": "b8ed1a90",
   "metadata": {},
   "outputs": [],
   "source": [
    "import pandas as pd\n",
    "\n",
    "df = pd.read_csv('./data/5_wtd_10seconds.csv')"
   ]
  },
  {
   "cell_type": "code",
   "execution_count": 19,
   "id": "77204cc7",
   "metadata": {},
   "outputs": [
    {
     "name": "stdout",
     "output_type": "stream",
     "text": [
      "/chapman_shaoxing/g1/JS00005\n"
     ]
    }
   ],
   "source": [
    "patient_record_path = df[df['patient_id']=='JS00005']['record_path'].iloc[0]\n",
    "print(patient_record_path)"
   ]
  },
  {
   "cell_type": "code",
   "execution_count": 5,
   "id": "90679fe2",
   "metadata": {},
   "outputs": [
    {
     "data": {
      "text/plain": [
       "6843"
      ]
     },
     "execution_count": 5,
     "metadata": {},
     "output_type": "execute_result"
    }
   ],
   "source": [
    "len(df[df['dataset'] == 'cpsc_2018'])"
   ]
  },
  {
   "cell_type": "code",
   "execution_count": 21,
   "id": "735c8d1d",
   "metadata": {},
   "outputs": [
    {
     "data": {
      "text/plain": [
       "62"
      ]
     },
     "execution_count": 21,
     "metadata": {},
     "output_type": "execute_result"
    }
   ],
   "source": [
    "len(df.columns)"
   ]
  },
  {
   "cell_type": "code",
   "execution_count": 22,
   "id": "897040c8",
   "metadata": {},
   "outputs": [
    {
     "name": "stdout",
     "output_type": "stream",
     "text": [
      "g1_164889003 1215\n",
      "g2_164909002 232\n",
      "g2_164931005 218\n",
      "g1_270492004 717\n",
      "g2_284470004 612\n",
      "g1_426783006 917\n",
      "g2_427172004 697\n",
      "g2_429622005 866\n",
      "g2_59118001 1849\n"
     ]
    }
   ],
   "source": [
    "for item in df.columns[3:]:\n",
    "    col_len = len(df[(df['dataset'] == 'cpsc_2018') & (df[item] == 1)])\n",
    "    if col_len > 0:\n",
    "        print(item, col_len)"
   ]
  },
  {
   "cell_type": "code",
   "execution_count": 4,
   "id": "e837000d",
   "metadata": {},
   "outputs": [
    {
     "data": {
      "text/plain": [
       "['A0021',\n",
       " 'A0032',\n",
       " 'A0034',\n",
       " 'A0036',\n",
       " 'A0046',\n",
       " 'A0054',\n",
       " 'A0058',\n",
       " 'A0063',\n",
       " 'A0072',\n",
       " 'A0093',\n",
       " 'A0120',\n",
       " 'A0139',\n",
       " 'A0147',\n",
       " 'A0163',\n",
       " 'A0174',\n",
       " 'A0256',\n",
       " 'A0322',\n",
       " 'A0361',\n",
       " 'A0393',\n",
       " 'A0469',\n",
       " 'A0652',\n",
       " 'A0692',\n",
       " 'A0709',\n",
       " 'A0783',\n",
       " 'A0835',\n",
       " 'A0879',\n",
       " 'A0888',\n",
       " 'A0930',\n",
       " 'A0947',\n",
       " 'A0975',\n",
       " 'A0978',\n",
       " 'A1047',\n",
       " 'A1073',\n",
       " 'A1081',\n",
       " 'A1123',\n",
       " 'A1143',\n",
       " 'A1171',\n",
       " 'A1187',\n",
       " 'A1198',\n",
       " 'A1214',\n",
       " 'A1236',\n",
       " 'A1268',\n",
       " 'A1288',\n",
       " 'A1296',\n",
       " 'A1321',\n",
       " 'A1340',\n",
       " 'A1360',\n",
       " 'A1363',\n",
       " 'A1413',\n",
       " 'A1434',\n",
       " 'A1479',\n",
       " 'A1527',\n",
       " 'A1586',\n",
       " 'A1588',\n",
       " 'A1600',\n",
       " 'A1657',\n",
       " 'A1666',\n",
       " 'A1710',\n",
       " 'A1750',\n",
       " 'A1802',\n",
       " 'A1839',\n",
       " 'A1851',\n",
       " 'A1885',\n",
       " 'A1923',\n",
       " 'A1960',\n",
       " 'A1967',\n",
       " 'A1975',\n",
       " 'A2001',\n",
       " 'A2004',\n",
       " 'A2072',\n",
       " 'A2095',\n",
       " 'A2122',\n",
       " 'A2145',\n",
       " 'A2156',\n",
       " 'A2172',\n",
       " 'A2198',\n",
       " 'A2254',\n",
       " 'A2295',\n",
       " 'A2302',\n",
       " 'A2304',\n",
       " 'A2307',\n",
       " 'A2311',\n",
       " 'A2316',\n",
       " 'A2340',\n",
       " 'A2394',\n",
       " 'A2449',\n",
       " 'A2458',\n",
       " 'A2474',\n",
       " 'A2523',\n",
       " 'A2592',\n",
       " 'A2605',\n",
       " 'A2620',\n",
       " 'A2708',\n",
       " 'A2721',\n",
       " 'A2732',\n",
       " 'A2789',\n",
       " 'A2804',\n",
       " 'A2843',\n",
       " 'A2847',\n",
       " 'A3011',\n",
       " 'A3020',\n",
       " 'A3029',\n",
       " 'A3040',\n",
       " 'A3063',\n",
       " 'A3109',\n",
       " 'A3208',\n",
       " 'A3243',\n",
       " 'A3251',\n",
       " 'A3360',\n",
       " 'A3429',\n",
       " 'A3451',\n",
       " 'A3491',\n",
       " 'A3499',\n",
       " 'A3516',\n",
       " 'A3539',\n",
       " 'A3551',\n",
       " 'A3562',\n",
       " 'A3595',\n",
       " 'A3599',\n",
       " 'A3609',\n",
       " 'A3612',\n",
       " 'A3617',\n",
       " 'A3620',\n",
       " 'A3640',\n",
       " 'A3646',\n",
       " 'A3654',\n",
       " 'A3801',\n",
       " 'A3822',\n",
       " 'A3851',\n",
       " 'A3870',\n",
       " 'A3950',\n",
       " 'A4030',\n",
       " 'A4047',\n",
       " 'A4095',\n",
       " 'A4104',\n",
       " 'A4155',\n",
       " 'A4185',\n",
       " 'A4200',\n",
       " 'A4231',\n",
       " 'A4233',\n",
       " 'A4296',\n",
       " 'A4298',\n",
       " 'A4300',\n",
       " 'A4324',\n",
       " 'A4328',\n",
       " 'A4338',\n",
       " 'A4340',\n",
       " 'A4402',\n",
       " 'A4424',\n",
       " 'A4449',\n",
       " 'A4455',\n",
       " 'A4464',\n",
       " 'A4472',\n",
       " 'A4478',\n",
       " 'A4541',\n",
       " 'A4564',\n",
       " 'A4569',\n",
       " 'A4589',\n",
       " 'A4653',\n",
       " 'A4671',\n",
       " 'A4688',\n",
       " 'A4705',\n",
       " 'A4722',\n",
       " 'A4728',\n",
       " 'A4734',\n",
       " 'A4746',\n",
       " 'A4782',\n",
       " 'A4812',\n",
       " 'A4845',\n",
       " 'A4877',\n",
       " 'A4879',\n",
       " 'A4935',\n",
       " 'A4948',\n",
       " 'A4964',\n",
       " 'A5091',\n",
       " 'A5092',\n",
       " 'A5106',\n",
       " 'A5279',\n",
       " 'A5304',\n",
       " 'A5314',\n",
       " 'A5431',\n",
       " 'A5439',\n",
       " 'A5461',\n",
       " 'A5462',\n",
       " 'A5504',\n",
       " 'A5544',\n",
       " 'A5551',\n",
       " 'A5609',\n",
       " 'A5641',\n",
       " 'A5654',\n",
       " 'A5664',\n",
       " 'A5673',\n",
       " 'A5683',\n",
       " 'A5705',\n",
       " 'A5863',\n",
       " 'A5945',\n",
       " 'A6069',\n",
       " 'A6074',\n",
       " 'A6076',\n",
       " 'A6099',\n",
       " 'A6122',\n",
       " 'A6140',\n",
       " 'A6141',\n",
       " 'A6183',\n",
       " 'A6275',\n",
       " 'A6296',\n",
       " 'A6394',\n",
       " 'A6402',\n",
       " 'A6414',\n",
       " 'A6468',\n",
       " 'A6591',\n",
       " 'A6613',\n",
       " 'A6657',\n",
       " 'A6677',\n",
       " 'A6760',\n",
       " 'A6816',\n",
       " 'A6834',\n",
       " 'A6847']"
      ]
     },
     "execution_count": 4,
     "metadata": {},
     "output_type": "execute_result"
    }
   ],
   "source": [
    "df[(df['dataset'] == 'cpsc_2018') & (df['g2_164931005'] == 1)]['patient_id'].to_list()"
   ]
  }
 ],
 "metadata": {
  "kernelspec": {
   "display_name": "ecgmaster",
   "language": "python",
   "name": "python3"
  },
  "language_info": {
   "codemirror_mode": {
    "name": "ipython",
    "version": 3
   },
   "file_extension": ".py",
   "mimetype": "text/x-python",
   "name": "python",
   "nbconvert_exporter": "python",
   "pygments_lexer": "ipython3",
   "version": "3.9.13"
  }
 },
 "nbformat": 4,
 "nbformat_minor": 5
}
