{
 "cells": [
  {
   "cell_type": "code",
   "execution_count": 1,
   "id": "b8ed1a90",
   "metadata": {},
   "outputs": [],
   "source": [
    "import pandas as pd\n",
    "\n",
    "df = pd.read_csv('./data/5_wtd_10seconds.csv')"
   ]
  },
  {
   "cell_type": "code",
   "execution_count": 19,
   "id": "77204cc7",
   "metadata": {},
   "outputs": [
    {
     "name": "stdout",
     "output_type": "stream",
     "text": [
      "/chapman_shaoxing/g1/JS00005\n"
     ]
    }
   ],
   "source": [
    "patient_record_path = df[df['patient_id']=='JS00005']['record_path'].iloc[0]\n",
    "print(patient_record_path)"
   ]
  },
  {
   "cell_type": "code",
   "execution_count": 6,
   "id": "90679fe2",
   "metadata": {},
   "outputs": [
    {
     "data": {
      "text/plain": [
       "array(['chapman_shaoxing', 'cpsc_2018_extra', 'georgia', 'ningbo', 'ptb',\n",
       "       'ptb-xl', 'st_petersburg_incart'], dtype=object)"
      ]
     },
     "execution_count": 6,
     "metadata": {},
     "output_type": "execute_result"
    }
   ],
   "source": [
    "df[df['g2_164865005'] == 1]['dataset'].unique()"
   ]
  },
  {
   "cell_type": "code",
   "execution_count": 8,
   "id": "60fde47a",
   "metadata": {},
   "outputs": [
    {
     "data": {
      "text/plain": [
       "array(['chapman_shaoxing', 'cpsc_2018', 'cpsc_2018_extra', 'georgia',\n",
       "       'ningbo', 'ptb', 'ptb-xl', 'st_petersburg_incart'], dtype=object)"
      ]
     },
     "execution_count": 8,
     "metadata": {},
     "output_type": "execute_result"
    }
   ],
   "source": [
    "df['dataset'].unique()"
   ]
  },
  {
   "cell_type": "code",
   "execution_count": 21,
   "id": "735c8d1d",
   "metadata": {},
   "outputs": [
    {
     "data": {
      "text/plain": [
       "62"
      ]
     },
     "execution_count": 21,
     "metadata": {},
     "output_type": "execute_result"
    }
   ],
   "source": [
    "len(df.columns)"
   ]
  },
  {
   "cell_type": "code",
   "execution_count": 22,
   "id": "897040c8",
   "metadata": {},
   "outputs": [
    {
     "name": "stdout",
     "output_type": "stream",
     "text": [
      "g1_164889003 1215\n",
      "g2_164909002 232\n",
      "g2_164931005 218\n",
      "g1_270492004 717\n",
      "g2_284470004 612\n",
      "g1_426783006 917\n",
      "g2_427172004 697\n",
      "g2_429622005 866\n",
      "g2_59118001 1849\n"
     ]
    }
   ],
   "source": [
    "for item in df.columns[3:]:\n",
    "    col_len = len(df[(df['dataset'] == 'cpsc_2018') & (df[item] == 1)])\n",
    "    if col_len > 0:\n",
    "        print(item, col_len)"
   ]
  }
 ],
 "metadata": {
  "kernelspec": {
   "display_name": "ecgmaster",
   "language": "python",
   "name": "python3"
  },
  "language_info": {
   "codemirror_mode": {
    "name": "ipython",
    "version": 3
   },
   "file_extension": ".py",
   "mimetype": "text/x-python",
   "name": "python",
   "nbconvert_exporter": "python",
   "pygments_lexer": "ipython3",
   "version": "3.9.13"
  }
 },
 "nbformat": 4,
 "nbformat_minor": 5
}
